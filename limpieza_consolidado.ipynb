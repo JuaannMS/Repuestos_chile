{
 "cells": [
  {
   "cell_type": "code",
   "execution_count": 8,
   "id": "5b69ece8",
   "metadata": {},
   "outputs": [
    {
     "name": "stdout",
     "output_type": "stream",
     "text": [
      "Leyendo: resultados_autoplanet.xlsx\n",
      "Leyendo: resultados_casaderepuestos.xlsx\n",
      "Leyendo: resultados_chilerepuestos.xlsx\n",
      "Leyendo: resultados_ciper.xlsx\n",
      "Leyendo: resultados_emgi.xlsx\n",
      "Leyendo: resultados_inalco.xlsx\n",
      "Leyendo: resultados_mundorepuestos.xlsx\n",
      "Leyendo: resultados_salfarepuestos.xlsx\n",
      "Leyendo: resultados_takora.xlsx\n",
      "Leyendo: resultados_ulti.xlsx\n"
     ]
    }
   ],
   "source": [
    "import pandas as pd\n",
    "import os\n",
    "\n",
    "carpeta = \"Data encontrada\"\n",
    "\n",
    "# Lista para almacenar cada DataFrame\n",
    "dataframes = []\n",
    "\n",
    "#dff = pd.read_excel('Data encontrada/resultados_inalco.xlsx')\n",
    "\n",
    "# Iterar sobre todos los archivos en la carpeta\n",
    "for archivo in os.listdir(carpeta):\n",
    "    if archivo.endswith(\".xlsx\") or archivo.endswith(\".xls\"):\n",
    "        ruta = os.path.join(carpeta, archivo)\n",
    "        print(f\"Leyendo: {archivo}\")\n",
    "        df = pd.read_excel(ruta)\n",
    "        nombre_archivo = os.path.splitext(archivo)[0]  # Quita la extensión\n",
    "        df[\"Pagina\"] = nombre_archivo.replace(\"resultados_\", \"\")\n",
    "        df[\"Pagina\"] = df[\"Pagina\"].str.upper()\n",
    "        dataframes.append(df)\n",
    "\n",
    "df_concatenado = pd.concat(dataframes, ignore_index=True)\n"
   ]
  },
  {
   "cell_type": "markdown",
   "id": "19b932ff",
   "metadata": {},
   "source": [
    "LIMPIEZA DE DATOS"
   ]
  },
  {
   "cell_type": "code",
   "execution_count": 9,
   "id": "ad481237",
   "metadata": {},
   "outputs": [
    {
     "name": "stdout",
     "output_type": "stream",
     "text": [
      "Pagina\n",
      "CHILEREPUESTOS     4739\n",
      "MUNDOREPUESTOS     4251\n",
      "CIPER              1564\n",
      "TAKORA              636\n",
      "INALCO              303\n",
      "CASADEREPUESTOS     194\n",
      "AUTOPLANET          130\n",
      "EMGI                 40\n",
      "Name: count, dtype: int64\n"
     ]
    }
   ],
   "source": [
    "df_concatenado = df_concatenado.drop_duplicates(subset=[ 'Link']) #'Nombre Producto',\n",
    "\n",
    "\n",
    "df_concatenado['Precio'] = (\n",
    "    df_concatenado['Precio']\n",
    "    .astype(str)\n",
    "    .str.replace('$', '', regex=False)\n",
    "    .str.replace('.', '', regex=False)\n",
    "    .str.replace(',', '', regex=False)\n",
    "    .str.strip()\n",
    ")\n",
    "\n",
    "df_concatenado['Precio'] = pd.to_numeric(df_concatenado['Precio'], errors='coerce')\n",
    "\n",
    "df_precios_cero = df_concatenado[df_concatenado['Precio'].isna() | (df_concatenado['Precio'] == 0)].copy()\n",
    "df_concatenado = df_concatenado[~df_concatenado.index.isin(df_precios_cero.index)].copy()\n",
    "\n",
    "\n",
    "mask_dup = df_concatenado.duplicated(subset=['Nombre Producto'], keep=False)\n",
    "df_nombres_duplicados = df_concatenado[mask_dup].copy()\n",
    "df_concatenado = df_concatenado[~mask_dup].copy()\n",
    "\n",
    "conteos = df_nombres_duplicados['Pagina'].value_counts()\n",
    "print(conteos)\n",
    "\n",
    "\n",
    "\n",
    "# df_nombres_repetidos = df_nombres_duplicados[~df_nombres_duplicados[\"Pagina\"].isin([\"MUNDOREPUESTOS\",\"CHILEREPUESTOS\",\"CIPER\",])]\n",
    "# df_nombres_duplicados = df_nombres_duplicados[df_nombres_duplicados[\"Pagina\"].isin([\"MUNDOREPUESTOS\",\"CHILEREPUESTOS\",\"CIPER\",])] "
   ]
  },
  {
   "cell_type": "markdown",
   "id": "aa384409",
   "metadata": {},
   "source": [
    "GUARDANDO ARCHIVOS"
   ]
  },
  {
   "cell_type": "code",
   "execution_count": 31,
   "id": "c345b1ec",
   "metadata": {},
   "outputs": [],
   "source": [
    "def contiene_marca_modelo(row):\n",
    "    nombre = str(row[\"Nombre Producto\"]).lower()\n",
    "    marca = str(row[\"Marca Buscada\"]).lower()\n",
    "    modelo = str(row[\"Modelo Buscado\"]).lower()\n",
    "    return marca in nombre and modelo in nombre\n",
    "\n",
    "df_valido = df_concatenado[df_concatenado.apply(contiene_marca_modelo, axis=1)].copy()\n",
    "\n",
    "df_repuestos = pd.read_csv('Input Repuestos/input_repuestos.csv')\n",
    "lista_repuestos = df_repuestos['repuestos'].dropna().tolist()\n",
    "\n",
    "lista_repuestos = [str(r).strip().lower() for r in lista_repuestos]\n",
    "\n",
    "def detectar_tipo_repuesto(nombre_producto):\n",
    "    nombre = str(nombre_producto).lower()\n",
    "    for repuesto in lista_repuestos:\n",
    "        if repuesto in nombre:\n",
    "            return repuesto\n",
    "    return None\n",
    "\n",
    "# Aplicar la función\n",
    "df_valido['tipo_repuesto'] = df_valido['Nombre Producto'].apply(detectar_tipo_repuesto)\n",
    "\n",
    "df_con_tipo = df_valido[df_valido['tipo_repuesto'].notna()].copy()\n",
    "\n",
    "\n",
    "columnas_necesarias = ['Nombre Producto', 'Marca Buscada', 'Modelo Buscado','tipo_repuesto', 'Precio', 'Pagina', 'Link', 'Imagen', 'Descripción', 'fecha_carga']\n",
    "df_con_tipo = df_con_tipo[columnas_necesarias].copy()\n",
    "\n",
    "# Paso 2: Renombrar columnas\n",
    "nuevos_nombres = {\n",
    "    'Nombre Producto': 'nombre',\n",
    "    'Marca Buscada': 'marca',\n",
    "    'Modelo Buscado': 'modelo',\n",
    "    'Precio': 'precio',\n",
    "    'Pagina': 'pagina',\n",
    "    'Link': 'link',\n",
    "    'Imagen': 'imagen',\n",
    "    'Descripción': 'descripcion',\n",
    "    'fecha_carga' : 'fecha_carga'\n",
    "}\n",
    "df_con_tipo.rename(columns=nuevos_nombres, inplace=True)\n",
    "df_con_tipo.to_excel('data_carga.xlsx', index=False)\n",
    "\n"
   ]
  }
 ],
 "metadata": {
  "kernelspec": {
   "display_name": "Python 3",
   "language": "python",
   "name": "python3"
  },
  "language_info": {
   "codemirror_mode": {
    "name": "ipython",
    "version": 3
   },
   "file_extension": ".py",
   "mimetype": "text/x-python",
   "name": "python",
   "nbconvert_exporter": "python",
   "pygments_lexer": "ipython3",
   "version": "3.11.3"
  }
 },
 "nbformat": 4,
 "nbformat_minor": 5
}
