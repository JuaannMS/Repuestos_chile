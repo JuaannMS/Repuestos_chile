{
 "cells": [
  {
   "cell_type": "code",
   "execution_count": 4,
   "id": "432ee47b",
   "metadata": {},
   "outputs": [
    {
     "name": "stdout",
     "output_type": "stream",
     "text": [
      "Leyendo: resultados_autoplanet.xlsx\n",
      "Leyendo: resultados_casaderepuestos.xlsx\n",
      "Leyendo: resultados_chilerepuestos.xlsx\n",
      "Leyendo: resultados_ciper.xlsx\n",
      "Leyendo: resultados_emgi.xlsx\n",
      "Leyendo: resultados_inalco.xlsx\n",
      "Leyendo: resultados_mundorepuestos.xlsx\n",
      "Leyendo: resultados_salfarepuestos.xlsx\n",
      "Leyendo: resultados_takora.xlsx\n",
      "Leyendo: resultados_ulti.xlsx\n"
     ]
    }
   ],
   "source": [
    "import pandas as pd\n",
    "import os\n",
    "\n",
    "carpeta = \"Data encontrada\"\n",
    "\n",
    "# Lista para almacenar cada DataFrame\n",
    "dataframes = []\n",
    "\n",
    "# Iterar sobre todos los archivos en la carpeta\n",
    "for archivo in os.listdir(carpeta):\n",
    "    if archivo.endswith(\".xlsx\") or archivo.endswith(\".xls\"):\n",
    "        ruta = os.path.join(carpeta, archivo)\n",
    "        print(f\"Leyendo: {archivo}\")\n",
    "        df = pd.read_excel(ruta)\n",
    "        nombre_archivo = os.path.splitext(archivo)[0]  # Quita la extensión\n",
    "        df[\"Pagina\"] = nombre_archivo.replace(\"resultados_\", \"\")\n",
    "        df[\"Pagina\"] = df[\"Pagina\"].str.upper()\n",
    "        dataframes.append(df)\n",
    "\n",
    "\n",
    "\n",
    "#buscar repuestos en el lider\n",
    "\n",
    "\n",
    "df_concatenado = pd.concat(dataframes, ignore_index=True)\n",
    "\n",
    "\n",
    "df_concatenado = df_concatenado.drop_duplicates(subset=['Nombre Producto', 'Link'])\n",
    "\n",
    "\n",
    "df_concatenado['Precio'] = (\n",
    "    df_concatenado['Precio']\n",
    "    .astype(str)\n",
    "    .str.replace('$', '', regex=False)\n",
    "    .str.replace('.', '', regex=False)\n",
    "    .str.replace(',', '', regex=False)\n",
    "    .str.strip()\n",
    ")\n",
    "\n",
    "# 2. Convertir a número (manteniendo NaN si no se puede convertir)\n",
    "df_concatenado['Precio'] = pd.to_numeric(df_concatenado['Precio'], errors='coerce')\n",
    "\n",
    "# 3. Guardar todos los que son NaN o 0\n",
    "df_precios_cero = df_concatenado[df_concatenado['Precio'].isna() | (df_concatenado['Precio'] == 0)].copy()\n",
    "\n",
    "# 4. Eliminar del DataFrame original\n",
    "df_concatenado = df_concatenado[~df_concatenado.index.isin(df_precios_cero.index)].copy()\n",
    "\n",
    "\n",
    "mask_dup = df_concatenado.duplicated(subset=['Nombre Producto'], keep=False)\n",
    "df_nombres_duplicados = df_concatenado[mask_dup].copy()\n",
    "df_concatenado = df_concatenado[~mask_dup].copy()\n",
    "\n",
    "\n",
    "df_nombres_repetidos = df_nombres_duplicados[~df_nombres_duplicados[\"Pagina\"].isin([\"MUNDOREPUESTOS\",\"CHILEREPUESTOS\",\"CIPER\",])]\n",
    "df_nombres_duplicados = df_nombres_duplicados[df_nombres_duplicados[\"Pagina\"].isin([\"MUNDOREPUESTOS\",\"CHILEREPUESTOS\",\"CIPER\",])] \n",
    "\n",
    "\n",
    "df_nombres_repetidos.to_excel('Data consolidada/repetidos_sin_modificar.xlsx')\n",
    "df_nombres_duplicados.to_excel('Data consolidada/df_nombres_duplicados.xlsx', index=False)\n",
    "df_concatenado.to_excel('Data consolidada/consolidado.xlsx', index=False)\n",
    "df_precios_cero.to_excel('Data consolidada/repuestos_sin_precio.xlsx', index=False)\n",
    "\n",
    "\n",
    "\n"
   ]
  }
 ],
 "metadata": {
  "kernelspec": {
   "display_name": "Python 3",
   "language": "python",
   "name": "python3"
  },
  "language_info": {
   "codemirror_mode": {
    "name": "ipython",
    "version": 3
   },
   "file_extension": ".py",
   "mimetype": "text/x-python",
   "name": "python",
   "nbconvert_exporter": "python",
   "pygments_lexer": "ipython3",
   "version": "3.11.3"
  }
 },
 "nbformat": 4,
 "nbformat_minor": 5
}
