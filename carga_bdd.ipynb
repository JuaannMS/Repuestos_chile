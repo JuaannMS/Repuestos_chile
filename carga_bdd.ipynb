{
 "cells": [
  {
   "cell_type": "code",
   "execution_count": null,
   "id": "a5d4771e",
   "metadata": {},
   "outputs": [],
   "source": [
    "import pandas as pd\n",
    "\n",
    "ruta_duplicados = 'Data consolidada/df_nombres_duplicados.xlsx'\n",
    "df_duplicados = pd.read_excel(ruta_duplicados)\n",
    "\n",
    "#DICCIONARIO LINK - NUEVO NOMBRE\n",
    "ruta_diccionario_nombres_duplicados = 'Data consolidada/diccionario_nombres repetidos.xlsx'\n",
    "df_diccionario  = pd.read_excel(ruta_diccionario_nombres_duplicados)\n",
    "\n",
    "#del df_nombres_modificados['Nombre Producto']\n",
    "# df_nombres_modificados.rename([])\n",
    "\n",
    "# ruta_consolidados = 'Data consolidada/consolidado.xlsx'\n",
    "# df_consolidados = pd.read_excel(ruta_consolidados)\n",
    "\n",
    "# df_consolidados = df_consolidados.drop_duplicates(\n",
    "#     subset=['Nombre Producto'],\n",
    "#     keep='first'\n",
    "# )\n"
   ]
  }
 ],
 "metadata": {
  "kernelspec": {
   "display_name": "Python 3",
   "language": "python",
   "name": "python3"
  },
  "language_info": {
   "codemirror_mode": {
    "name": "ipython",
    "version": 3
   },
   "file_extension": ".py",
   "mimetype": "text/x-python",
   "name": "python",
   "nbconvert_exporter": "python",
   "pygments_lexer": "ipython3",
   "version": "3.11.3"
  }
 },
 "nbformat": 4,
 "nbformat_minor": 5
}
