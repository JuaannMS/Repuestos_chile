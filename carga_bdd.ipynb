{
 "cells": [
  {
   "cell_type": "code",
   "execution_count": 1,
   "id": "a5d4771e",
   "metadata": {},
   "outputs": [
    {
     "name": "stdout",
     "output_type": "stream",
     "text": [
      "Conectado a: ('PostgreSQL 15.1, compiled by Visual C++ build 1914, 64-bit',)\n"
     ]
    },
    {
     "data": {
      "text/plain": [
       "270"
      ]
     },
     "execution_count": 1,
     "metadata": {},
     "output_type": "execute_result"
    }
   ],
   "source": [
    "import pandas as pd\n",
    "from sqlalchemy import create_engine, text\n",
    "import uuid\n",
    "import unicodedata\n",
    "\n",
    "\n",
    "# Leer el archivo Excel\n",
    "df = pd.read_excel('data_carga.xlsx')\n",
    "\n",
    "\n",
    "\n",
    "# Limpieza básica de columnas\n",
    "df.columns = df.columns.str.strip().str.lower()\n",
    "df['tipo_repuesto'] = df['tipo_repuesto'].str.strip().str.lower()\n",
    "df['pagina'] = df['pagina'].str.lower().str.strip()\n",
    "# df['pagina'] = df['pagina'].replace('mundorepuestos', 'Mundo Repuestos')\n",
    "df['modelo'] = df['modelo'].str.strip()\n",
    "\n",
    "# Conexión a PostgreSQL\n",
    "usuario = 'postgres'\n",
    "contraseña = 'jmms'\n",
    "host = 'localhost'\n",
    "puerto = '5432'\n",
    "nombre_bd = 'Repuestos'\n",
    "\n",
    "engine = create_engine(f\"postgresql://{usuario}:{contraseña}@{host}:{puerto}/{nombre_bd}\")\n",
    "\n",
    "# Verificar conexión\n",
    "with engine.connect() as conn:\n",
    "    result = conn.execute(text(\"SELECT version();\"))\n",
    "    print(\"Conectado a:\", result.fetchone())\n",
    "\n",
    "# Cargar datos de referencia\n",
    "df_tiendas = pd.read_sql(\"SELECT id_tienda, nombre FROM tienda\", engine)\n",
    "df_modelos = pd.read_sql(\"SELECT id_modelo, nombre FROM modelo\", engine)\n",
    "df_tipos = pd.read_sql(\"SELECT id_tipo, nombre FROM tipo_repuesto\", engine)\n",
    "\n",
    "def quitar_tildes(texto):\n",
    "    if isinstance(texto, str):\n",
    "        return unicodedata.normalize('NFKD', texto).encode('ASCII', 'ignore').decode('utf-8')\n",
    "    return texto\n",
    "\n",
    "# Aplicar a la columna 'nombre' de tipo_repuesto\n",
    "df_tipos['nombre'] = df_tipos['nombre'].apply(quitar_tildes).str.strip().str.lower()\n",
    "\n",
    "# Normalizar nombres\n",
    "df_tiendas['nombre'] = df_tiendas['nombre'].str.strip().str.lower()\n",
    "df_modelos['nombre'] = df_modelos['nombre'].str.strip()\n",
    "df_tipos['nombre'] = df_tipos['nombre'].str.strip().str.lower()\n",
    "\n",
    "# Buscar id_tienda con contains sobre 'pagina'\n",
    "def encontrar_id_tienda(pagina_val):\n",
    "    for _, fila in df_tiendas.iterrows():\n",
    "        if pd.notna(pagina_val) and fila['nombre'] in pagina_val:\n",
    "            return fila['id_tienda']\n",
    "    return None\n",
    "\n",
    "df['id_tienda'] = df['pagina'].apply(encontrar_id_tienda)\n",
    "\n",
    "# Merge exacto por modelo\n",
    "df_modelos = df_modelos.rename(columns={\"nombre\": \"modelo\"})\n",
    "df = df.merge(df_modelos, on=\"modelo\", how=\"left\")\n",
    "\n",
    "# Match parcial para tipo_repuesto\n",
    "def encontrar_tipo_id(valor):\n",
    "    for _, fila in df_tipos.iterrows():\n",
    "        if pd.notna(valor) and fila['nombre'] in valor:\n",
    "            return fila['id_tipo']\n",
    "    return None\n",
    "\n",
    "df['id_tipo'] = df['tipo_repuesto'].apply(encontrar_tipo_id)\n",
    "\n",
    "# Generar columna id_repuesto única de máximo 20 caracteres\n",
    "def generar_id_repuesto():\n",
    "    return str(uuid.uuid4()).replace(\"-\", \"\")[:20]\n",
    "\n",
    "df['id_repuesto'] = [generar_id_repuesto() for _ in range(len(df))]\n",
    "while df['id_repuesto'].duplicated().any():\n",
    "    duplicados = df['id_repuesto'].duplicated(keep=False)\n",
    "    df.loc[duplicados, 'id_repuesto'] = [generar_id_repuesto() for _ in range(duplicados.sum())]\n",
    "\n",
    "\n",
    "# Construir el DataFrame final\n",
    "df = df[[\n",
    "    'id_repuesto', 'nombre', 'id_tienda', 'id_modelo', 'id_tipo',\n",
    "    'precio', 'link', 'imagen', 'descripcion', 'fecha_carga'\n",
    "]]\n",
    "\n",
    "df = df.dropna(subset=['id_tipo'])\n",
    "df = df.dropna(subset=['id_tienda']) #QUITAR ESTO\n",
    "\n",
    "df.to_sql('repuestos', engine, if_exists='append', index=False)\n",
    "\n"
   ]
  },
  {
   "cell_type": "code",
   "execution_count": 2,
   "id": "e7a2772a",
   "metadata": {},
   "outputs": [
    {
     "data": {
      "text/plain": [
       "270"
      ]
     },
     "execution_count": 2,
     "metadata": {},
     "output_type": "execute_result"
    }
   ],
   "source": [
    "df_comp = df[['id_repuesto', 'id_modelo']].drop_duplicates()\n",
    "\n",
    "df_comp.to_sql(\n",
    "    'compatibilidad',\n",
    "    engine,\n",
    "    if_exists='append',\n",
    "    index=False,\n",
    ")\n",
    "\n",
    "# 2) Catálogo: solo id_repuesto ↔ id_tienda\n",
    "df_cat = df[['id_repuesto', 'id_tienda']].drop_duplicates()\n",
    "\n",
    "df_cat.to_sql(\n",
    "    'catalogo',\n",
    "    engine,\n",
    "    if_exists='append',\n",
    "    index=False,\n",
    ")"
   ]
  }
 ],
 "metadata": {
  "kernelspec": {
   "display_name": "Python 3",
   "language": "python",
   "name": "python3"
  },
  "language_info": {
   "codemirror_mode": {
    "name": "ipython",
    "version": 3
   },
   "file_extension": ".py",
   "mimetype": "text/x-python",
   "name": "python",
   "nbconvert_exporter": "python",
   "pygments_lexer": "ipython3",
   "version": "3.11.3"
  }
 },
 "nbformat": 4,
 "nbformat_minor": 5
}
